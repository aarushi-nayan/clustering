{
  "nbformat": 4,
  "nbformat_minor": 0,
  "metadata": {
    "colab": {
      "provenance": []
    },
    "kernelspec": {
      "name": "python3",
      "display_name": "Python 3"
    },
    "language_info": {
      "name": "python"
    }
  },
  "cells": [
    {
      "cell_type": "code",
      "execution_count": null,
      "metadata": {
        "id": "UodsQsIiMYhc"
      },
      "outputs": [],
      "source": []
    },
    {
      "cell_type": "markdown",
      "source": [
        "#Clustering Assignment\n",
        "\n",
        "\n",
        "Theoritical Question\n",
        "\n",
        "Q1.What is unsupervised learning in the context of machine learning?\n",
        "\n",
        "--->Unsupervised learning is a type of machine learning where the model is trained on unlabeled data and tries to find hidden patterns, groupings, or structures in the data without predefined outputs.\n",
        "\n",
        "Example: clustering customers by behavior or reducing data dimensions with PCA.\n",
        "\n",
        "Ans 2. K-Means clustering works by grouping data points into K clusters based on similarity.\n",
        "\n",
        "Steps:\n",
        "\n",
        "Choose the number of clusters K.\n",
        "\n",
        "Randomly initialize K centroids (cluster centers).\n",
        "\n",
        "Assign each data point to the nearest centroid.\n",
        "\n",
        "Recalculate the centroids as the mean of assigned points.\n",
        "\n",
        "Repeat steps 3–4 until centroids stop changing or reach convergence.\n",
        "\n",
        "\n",
        "Ans 3. A dendrogram is a tree-like diagram used in hierarchical clustering to show how data points or clusters are merged step by step.\n",
        "\n",
        "Each leaf at the bottom represents a single data point.\n",
        "\n",
        "Branches show how points are joined into clusters based on similarity (distance).\n",
        "\n",
        "The height of the branches represents the distance or dissimilarity at which clusters are merged.\n",
        "\n",
        "By “cutting” the dendrogram at a certain height, you decide the number of clusters.\n",
        "\n",
        "Ans 4. The main difference lies in how clusters are formed:\n",
        "\n",
        "K-Means Clustering:\n",
        "\n",
        "Requires you to predefine the number of clusters (K).\n",
        "\n",
        "Uses iterative optimization to assign points to the nearest centroid.\n",
        "\n",
        "Best for large datasets, but results can vary depending on initial centroid selection.\n",
        "\n",
        "Hierarchical Clustering:\n",
        "\n",
        "Does not require the number of clusters in advance.\n",
        "\n",
        "Builds a tree-like structure (dendrogram) by successively merging or splitting clusters.\n",
        "\n",
        "More interpretable, but computationally expensive for large datasets.\n",
        "\n",
        "Q5. What are the advantages of DBSCAN over K-Means.\n",
        "\n",
        "--->Here are the key advantages of DBSCAN over K-Means:\n",
        "\n",
        "No need to predefine K → DBSCAN automatically finds the number of clusters based on density.\n",
        "\n",
        "Can find arbitrarily shaped clusters → unlike K-Means, which works best with spherical clusters.\n",
        "\n",
        "Handles noise/outliers well → DBSCAN labels them as “noise” instead of forcing them into a cluster.\n",
        "\n",
        "Better for clusters of different sizes/densities → K-Means struggles when clusters are uneven.\n",
        "\n",
        "Q6.When would you use Silhouette Score in clustering?\n",
        "\n",
        "--->You would use the Silhouette Score in clustering to measure how well the clusters are formed.\n",
        "\n",
        "It evaluates how similar a data point is to its own cluster (cohesion) compared to other clusters (separation).\n",
        "\n",
        "The score ranges from -1 to +1:\n",
        "\n",
        "+1 → well-clustered (good fit).\n",
        "\n",
        "0 → overlapping/unclear clusters.\n",
        "\n",
        "-1 → misclassified (wrong cluster).\n",
        "\n",
        "Q7. What are the limitations of Hierarchical Clustering?\n",
        "\n",
        "--->the main limitations of Hierarchical Clustering:\n",
        "\n",
        "Scalability issues – It’s computationally expensive (O(n²) or worse), so it doesn’t work well for very large datasets.\n",
        "\n",
        "No correction once merged/split – Early wrong merges or splits can’t be undone.\n",
        "\n",
        "Sensitive to noise and outliers – Outliers can distort the dendrogram structure.\n",
        "\n",
        "Choice of linkage affects results – Different linkage methods (single, complete, average) can produce very different clusters.\n",
        "\n",
        "Not suitable for high-dimensional data – Distance measures become less meaningful in high dimensions.\n",
        "\n",
        "Q8.  Why is feature scaling important in clustering algorithms like K-Means?\n",
        "\n",
        "--->Feature scaling is important in clustering algorithms like K-Means because K-Means uses Euclidean distance (or similar metrics) to assign points to clusters.\n",
        "\n",
        "If features are on different scales (e.g., age in years vs. income in lakhs), the larger-scale feature will dominate the distance calculation, leading to biased clusters.\n",
        "\n",
        "Scaling (using Standardization or Min-Max normalization) ensures all features contribute equally to the clustering process.\n",
        "\n",
        "Q9. How does DBSCAN identify noise points.\n",
        "\n",
        "--->DBSCAN identifies noise points (outliers) using two parameters:\n",
        "\n",
        "ε (epsilon) → the radius around a point.\n",
        "\n",
        "MinPts → minimum number of neighbors required to form a dense region.\n",
        "\n",
        "Rules:\n",
        "\n",
        "A point is a core point if it has at least MinPts neighbors within radius ε.\n",
        "\n",
        "A point is a border point if it has fewer than MinPts neighbors but lies within the ε-radius of a core point.\n",
        "\n",
        "A point is labeled as noise (outlier) if it is neither a core point nor a border point.\n",
        "\n",
        "Q10. Define inertia in the context of K-Means.\n",
        "\n",
        "--->In the context of K-Means, inertia is a measure of how well the clusters are formed.\n",
        "\n",
        "It is the sum of squared distances of each data point to its nearest cluster centroid.\n",
        "\n",
        "Lower inertia → points are closer to centroids → tighter, better-defined clusters.\n",
        "\n",
        "Used in the Elbow Method to decide the optimal number of clusters (K).\n",
        "\n",
        "Q11. What is the elbow method in K-Means clustering?\n",
        "\n",
        "--->The Elbow Method is a technique to find the optimal number of clusters (K) in K-Means.\n",
        "\n",
        "You run K-Means with different values of K.\n",
        "\n",
        "For each K, calculate the inertia (sum of squared distances of points to their cluster centroids).\n",
        "\n",
        "Plot K vs. Inertia.\n",
        "\n",
        "As K increases, inertia decreases, but after a certain point the improvement slows down.\n",
        "\n",
        "The point where the curve bends like an “elbow” is considered the optimal K.\n",
        "\n",
        "Q12. Describe the concept of \"density\" in DBSCAN.\n",
        "\n",
        "--->In DBSCAN, the concept of density is central to forming clusters.\n",
        "\n",
        "Density refers to how many data points exist in a region within a certain distance (ε – epsilon).\n",
        "\n",
        "A region is considered dense if the number of points inside the ε-radius of a point is at least MinPts.\n",
        "\n",
        "Based on density:\n",
        "\n",
        "Core Point → has ≥ MinPts within ε (high density).\n",
        "\n",
        "Border Point → has < MinPts within ε but lies near a core point.\n",
        "\n",
        "Noise Point → not in a dense region (too isolated).\n",
        "\n",
        "Q13. Can hierarchical clustering be used on categorical data?\n",
        "\n",
        "--->Yes, hierarchical clustering can be used on categorical data, but with some adjustments:\n",
        "\n",
        "Standard hierarchical clustering relies on distance metrics like Euclidean, which don’t work directly on categorical variables.\n",
        "\n",
        "Instead, you need suitable similarity/distance measures for categorical data, such as:\n",
        "\n",
        "Hamming distance (proportion of mismatches).\n",
        "\n",
        "Jaccard similarity (for binary/categorical features).\n",
        "\n",
        "Gower distance (works for mixed data types: numerical + categorical).\n",
        "\n",
        "After defining an appropriate distance matrix, hierarchical clustering can be applied normally, and a dendrogram can be built.\n",
        "\n",
        "Q14.What does a negative Silhouette Score indicate?\n",
        "\n",
        "--->A negative Silhouette Score means that a data point is, on average, closer to points in another cluster than to points in its own cluster.\n",
        "\n",
        "Interpretation:\n",
        "\n",
        "The point is likely misclassified or placed in the wrong cluster.\n",
        "\n",
        "It indicates poor clustering quality (clusters overlap or are not well separated).\n",
        "\n",
        "In short: A negative Silhouette Score shows that the clustering solution is not appropriate for the data.\n",
        "\n",
        "Q15.Explain the term \"linkage criteria\" in hierarchical clustering.\n",
        "\n",
        "--->In hierarchical clustering, linkage criteria determine how the distance between two clusters is calculated when deciding which clusters to merge at each step.\n",
        "\n",
        "Common linkage methods:\n",
        "\n",
        "Single linkage → distance = minimum distance between any two points (one from each cluster).\n",
        "\n",
        "Complete linkage → distance = maximum distance between any two points across clusters.\n",
        "\n",
        "Average linkage → distance = average distance between all pairs of points across clusters.\n",
        "\n",
        "Ward’s method → merges clusters that result in the smallest increase in total variance (minimizes within-cluster variance).\n",
        "\n",
        "Q16. Why might K-Means clustering perform poorly on data with varying cluster sizes or densities?\n",
        "\n",
        "--->K-Means clustering can perform poorly on data with varying cluster sizes or densities because of how it works:\n",
        "\n",
        "Assumes clusters are spherical & equally sized → K-Means partitions based on distance to centroids, so it struggles when clusters are elongated, uneven, or irregularly shaped.\n",
        "\n",
        "Sensitive to density differences → Dense clusters may be split, and sparse clusters may be merged incorrectly.\n",
        "\n",
        "Centroid bias → Larger clusters can dominate centroid placement, pulling smaller clusters toward them.\n",
        "\n",
        "No handling of noise/outliers → Outliers can distort centroids and lead to poor boundaries.\n",
        "\n",
        "Q17. What are the core parameters in DBSCAN, and how do they influence clustering?\n",
        "\n",
        "--->The two core parameters in DBSCAN are:\n",
        "\n",
        "ε (epsilon / radius)\n",
        "\n",
        "Defines the maximum distance within which points are considered neighbors.\n",
        "\n",
        "Small ε → many points labeled as noise, clusters may break up.\n",
        "\n",
        "Large ε → clusters may merge together, losing fine structure.\n",
        "\n",
        "MinPts (minimum points)\n",
        "\n",
        "Minimum number of neighbors (including the point itself) required to form a dense region.\n",
        "\n",
        "Small MinPts → even sparse areas form clusters (risk of noise being included).\n",
        "\n",
        "Large MinPts → only very dense regions form clusters (risk of missing smaller clusters).\n",
        "\n",
        "Q18. How does K-Means++ improve upon standard K-Means initialization?\n",
        "\n",
        "--->K-Means++ improves upon standard K-Means initialization by choosing better starting centroids, which helps avoid poor clustering results.\n",
        "\n",
        "Standard K-Means issue:\n",
        "\n",
        "Randomly selects initial centroids.\n",
        "\n",
        "Bad initialization can lead to slow convergence or clusters stuck in local minima.\n",
        "\n",
        "K-Means++ solution:\n",
        "\n",
        "Pick the first centroid randomly from the data points.\n",
        "\n",
        "For each remaining centroid, select a point with probability proportional to its squared distance from the nearest already chosen centroid.\n",
        "\n",
        "(Farther points are more likely to be chosen).\n",
        "\n",
        "Repeat until K centroids are chosen.\n",
        "\n",
        "Run standard K-Means as usual.\n",
        "\n",
        "Q19.  What is agglomerative clustering?\n",
        "\n",
        "--->Agglomerative clustering is the most common type of hierarchical clustering that uses a bottom-up approach.\n",
        "\n",
        "How it works:\n",
        "\n",
        "Start with each data point as its own cluster.\n",
        "\n",
        "At each step, merge the two closest clusters based on a chosen linkage criteria (e.g., single, complete, average, or Ward’s).\n",
        "\n",
        "Repeat until all points are merged into a single cluster (or until the desired number of clusters is reached).\n",
        "\n",
        "The results are often visualized in a dendrogram, where cutting at a certain height gives the final clusters.\n",
        "\n",
        "Q20. What makes Silhouette Score a better metric than just inertia for model evaluation?\n",
        "\n",
        "--->Inertia (used in K-Means):\n",
        "\n",
        "Measures compactness → how close points are to their cluster centroid.\n",
        "\n",
        "Always decreases as the number of clusters K increases.\n",
        "\n",
        "Problem: It doesn’t tell if clusters are well separated — just how tight they are.\n",
        "\n",
        "\n",
        "Silhouette Score:\n",
        "\n",
        "Considers both cohesion and separation:\n",
        "\n",
        "Cohesion → how close a point is to its own cluster.\n",
        "\n",
        "Separation → how far it is from the nearest other cluster.\n",
        "\n",
        "Range: -1 to +1 →\n",
        "\n",
        "+1 → well-clustered.\n",
        "\n",
        "0 → overlapping clusters.\n",
        "\n",
        "-1 → likely misclassified.\n",
        "\n",
        "Works across different algorithms (not tied only to K-Means).\n",
        "\n",
        "\n",
        "\n",
        "#Practical Questions\n",
        "\n",
        "Q21. Generate synthetic data with 4 centers using make_blobs and apply K-Means clustering. Visualize using a\n",
        "scatter plot.\n"
      ],
      "metadata": {
        "id": "ZQ8NoOuRMf4N"
      }
    },
    {
      "cell_type": "code",
      "source": [
        "from sklearn.datasets import make_blobs\n",
        "from sklearn.cluster import KMeans\n",
        "import matplotlib.pyplot as plt\n",
        "\n",
        "# Generate synthetic data with 4 centers\n",
        "X, y_true = make_blobs(n_samples=500, centers=4, cluster_std=0.8, random_state=42)\n",
        "\n",
        "# Apply K-Means clustering\n",
        "kmeans = KMeans(n_clusters=4, random_state=42)\n",
        "y_kmeans = kmeans.fit_predict(X)\n",
        "\n",
        "# Plot the results\n",
        "plt.figure(figsize=(8,6))\n",
        "plt.scatter(X[:, 0], X[:, 1], c=y_kmeans, s=50, cmap='viridis')\n",
        "plt.scatter(kmeans.cluster_centers_[:, 0], kmeans.cluster_centers_[:, 1],\n",
        "            c='red', s=200, marker='X', label='Centroids')\n",
        "plt.title(\"K-Means Clustering on Synthetic Data (4 Centers)\")\n",
        "plt.legend()\n",
        "plt.show()\n"
      ],
      "metadata": {
        "colab": {
          "base_uri": "https://localhost:8080/",
          "height": 545
        },
        "id": "CtH6BaMMQ4Hl",
        "outputId": "3b6e9592-eb21-4f13-a951-1c8b831cd2cf"
      },
      "execution_count": 1,
      "outputs": [
        {
          "output_type": "display_data",
          "data": {
            "text/plain": [
              "<Figure size 800x600 with 1 Axes>"
            ],
            "image/png": "[encoded data removed]"
          },
          "metadata": {}
        }
      ]
    },
    {
      "cell_type": "markdown",
      "source": [
        "Q22.  Load the Iris dataset and use Agglomerative Clustering to group the data into 3 clusters. Display the first 10\n",
        "predicted labels."
      ],
      "metadata": {
        "id": "XDjX57kMQ9lU"
      }
    },
    {
      "cell_type": "code",
      "source": [
        "from sklearn.datasets import load_iris\n",
        "from sklearn.cluster import AgglomerativeClustering\n",
        "\n",
        "# Load the Iris dataset\n",
        "iris = load_iris()\n",
        "X = iris.data\n",
        "\n",
        "# Apply Agglomerative Clustering with 3 clusters\n",
        "agg_cluster = AgglomerativeClustering(n_clusters=3)\n",
        "labels = agg_cluster.fit_predict(X)\n",
        "\n",
        "# Display the first 10 predicted labels\n",
        "labels[:10]\n"
      ],
      "metadata": {
        "colab": {
          "base_uri": "https://localhost:8080/"
        },
        "id": "JhlU12VWRGhr",
        "outputId": "6f32e0a4-f344-4654-d092-f5ba9655b6de"
      },
      "execution_count": 2,
      "outputs": [
        {
          "output_type": "execute_result",
          "data": {
            "text/plain": [
              "array([1, 1, 1, 1, 1, 1, 1, 1, 1, 1])"
            ]
          },
          "metadata": {},
          "execution_count": 2
        }
      ]
    },
    {
      "cell_type": "markdown",
      "source": [
        "Q23.Generate synthetic data using make_moons and apply DBSCAN. Highlight outliers in the plot."
      ],
      "metadata": {
        "id": "zYL7GKtWRH0p"
      }
    },
    {
      "cell_type": "code",
      "source": [
        "from sklearn.datasets import make_moons\n",
        "from sklearn.cluster import DBSCAN\n",
        "import numpy as np\n",
        "\n",
        "# Generate synthetic data (two interleaving half circles)\n",
        "X, _ = make_moons(n_samples=300, noise=0.1, random_state=42)\n",
        "\n",
        "# Apply DBSCAN\n",
        "dbscan = DBSCAN(eps=0.2, min_samples=5)\n",
        "labels = dbscan.fit_predict(X)\n",
        "\n",
        "# Identify core samples, border samples, and outliers\n",
        "outliers = labels == -1\n",
        "\n",
        "# Plot results\n",
        "plt.figure(figsize=(8,6))\n",
        "plt.scatter(X[~outliers, 0], X[~outliers, 1], c=labels[~outliers], cmap='viridis', s=50)\n",
        "plt.scatter(X[outliers, 0], X[outliers, 1], c='red', s=60, marker='X', label='Outliers')\n",
        "plt.title(\"DBSCAN Clustering on make_moons Data\")\n",
        "plt.legend()\n",
        "plt.show()\n"
      ],
      "metadata": {
        "id": "x7WOtuZ6vUEh"
      },
      "execution_count": null,
      "outputs": []
    },
    {
      "cell_type": "markdown",
      "source": [
        "Q24.Load the Wine dataset and apply K-Means clustering after standardizing the features. Print the size of each\n",
        "cluster."
      ],
      "metadata": {
        "id": "1SG9vqvrvV6v"
      }
    },
    {
      "cell_type": "code",
      "source": [
        "from sklearn.datasets import load_wine\n",
        "from sklearn.preprocessing import StandardScaler\n",
        "from sklearn.cluster import KMeans\n",
        "import numpy as np\n",
        "\n",
        "# Load the Wine dataset\n",
        "wine = load_wine()\n",
        "X = wine.data\n",
        "\n",
        "# Standardize the features\n",
        "scaler = StandardScaler()\n",
        "X_scaled = scaler.fit_transform(X)\n",
        "\n",
        "# Apply K-Means clustering (let's assume 3 clusters, like wine classes)\n",
        "kmeans = KMeans(n_clusters=3, random_state=42)\n",
        "labels = kmeans.fit_predict(X_scaled)\n",
        "\n",
        "# Print the size of each cluster\n",
        "unique, counts = np.unique(labels, return_counts=True)\n",
        "cluster_sizes = dict(zip(unique, counts))\n",
        "cluster_sizes\n"
      ],
      "metadata": {
        "id": "Jpqo6F1jvdGp"
      },
      "execution_count": null,
      "outputs": []
    },
    {
      "cell_type": "markdown",
      "source": [
        "Q25.Use make_circles to generate synthetic data and cluster it using DBSCAN. Plot the result.\n",
        "\n"
      ],
      "metadata": {
        "id": "06US7Z-5vfUf"
      }
    },
    {
      "cell_type": "code",
      "source": [
        "from sklearn.datasets import make_circles\n",
        "from sklearn.cluster import DBSCAN\n",
        "\n",
        "# Generate synthetic data (concentric circles)\n",
        "X, _ = make_circles(n_samples=400, factor=0.5, noise=0.05, random_state=42)\n",
        "\n",
        "# Apply DBSCAN\n",
        "dbscan = DBSCAN(eps=0.1, min_samples=5)\n",
        "labels = dbscan.fit_predict(X)\n",
        "\n",
        "# Identify outliers\n",
        "outliers = labels == -1\n",
        "\n",
        "# Plot results\n",
        "plt.figure(figsize=(8,6))\n",
        "plt.scatter(X[~outliers, 0], X[~outliers, 1], c=labels[~outliers], cmap='viridis', s=50)\n",
        "plt.scatter(X[outliers, 0], X[outliers, 1], c='red', s=60, marker='X', label='Outliers')\n",
        "plt.title(\"DBSCAN Clustering on make_circles Data\")\n",
        "plt.legend()\n",
        "plt.show()\n"
      ],
      "metadata": {
        "id": "1rdJsUo9vk_w"
      },
      "execution_count": null,
      "outputs": []
    },
    {
      "cell_type": "markdown",
      "source": [
        "Q26. Load the Breast Cancer dataset, apply MinMaxScaler, and use K-Means with 2 clusters. Output the cluster\n",
        "centroids.\n",
        "\n"
      ],
      "metadata": {
        "id": "ZRZ6j9AFvlqv"
      }
    },
    {
      "cell_type": "code",
      "source": [
        "from sklearn.datasets import load_breast_cancer\n",
        "from sklearn.preprocessing import MinMaxScaler\n",
        "from sklearn.cluster import KMeans\n",
        "import pandas as pd\n",
        "\n",
        "# Load Breast Cancer dataset\n",
        "data = load_breast_cancer()\n",
        "X = data.data\n",
        "\n",
        "# Apply MinMaxScaler\n",
        "scaler = MinMaxScaler()\n",
        "X_scaled = scaler.fit_transform(X)\n",
        "\n",
        "# Apply K-Means with 2 clusters\n",
        "kmeans = KMeans(n_clusters=2, random_state=42)\n",
        "kmeans.fit(X_scaled)\n",
        "\n",
        "# Get cluster centroids\n",
        "centroids = kmeans.cluster_centers_\n",
        "\n",
        "# Convert to DataFrame for readability\n",
        "centroids_df = pd.DataFrame(centroids, columns=data.feature_names)\n",
        "print(\"Cluster Centroids:\\n\")\n",
        "print(centroids_df)\n"
      ],
      "metadata": {
        "id": "3kxaT8HPvpqU"
      },
      "execution_count": null,
      "outputs": []
    },
    {
      "cell_type": "markdown",
      "source": [
        "Q27.Generate synthetic data using make_blobs with varying cluster standard deviations and cluster with\n",
        "DBSCAN.\n"
      ],
      "metadata": {
        "id": "47-avkf8vsN3"
      }
    },
    {
      "cell_type": "code",
      "source": [
        "import matplotlib.pyplot as plt\n",
        "from sklearn.datasets import make_blobs\n",
        "from sklearn.cluster import DBSCAN\n",
        "import numpy as np\n",
        "\n",
        "# Generate synthetic data with varying cluster standard deviations\n",
        "X, y = make_blobs(n_samples=500, centers=4, cluster_std=[0.3, 0.6, 1.2, 0.9], random_state=42)\n",
        "\n",
        "# Apply DBSCAN\n",
        "dbscan = DBSCAN(eps=0.5, min_samples=5)\n",
        "labels = dbscan.fit_predict(X)\n",
        "\n",
        "# Identify outliers\n",
        "outliers = labels == -1\n",
        "\n",
        "# Plot results\n",
        "plt.figure(figsize=(8,6))\n",
        "plt.scatter(X[~outliers, 0], X[~outliers, 1], c=labels[~outliers], cmap='viridis', s=50)\n",
        "plt.scatter(X[outliers, 0], X[outliers, 1], c='red', s=60, marker='X', label='Outliers')\n",
        "plt.title(\"DBSCAN Clustering on make_blobs with Varying Cluster Std\")\n",
        "plt.legend()\n",
        "plt.show()\n"
      ],
      "metadata": {
        "id": "5mBnmvhJvvH4"
      },
      "execution_count": null,
      "outputs": []
    },
    {
      "cell_type": "markdown",
      "source": [
        "Q28.Load the Digits dataset, reduce it to 2D using PCA, and visualize clusters from K-Means.\n"
      ],
      "metadata": {
        "id": "oaPWpuHgvzgV"
      }
    },
    {
      "cell_type": "code",
      "source": [
        "import matplotlib.pyplot as plt\n",
        "from sklearn.datasets import load_digits\n",
        "from sklearn.decomposition import PCA\n",
        "from sklearn.cluster import KMeans\n",
        "\n",
        "# Load Digits dataset\n",
        "digits = load_digits()\n",
        "X = digits.data\n",
        "\n",
        "# Reduce to 2D using PCA\n",
        "pca = PCA(n_components=2)\n",
        "X_pca = pca.fit_transform(X)\n",
        "\n",
        "# Apply K-Means clustering (let’s use 10 clusters since digits are 0–9)\n",
        "kmeans = KMeans(n_clusters=10, random_state=42)\n",
        "labels = kmeans.fit_predict(X_pca)\n",
        "\n",
        "# Plot the clusters\n",
        "plt.figure(figsize=(8,6))\n",
        "plt.scatter(X_pca[:, 0], X_pca[:, 1], c=labels, cmap='tab10', s=40)\n",
        "plt.scatter(kmeans.cluster_centers_[:, 0], kmeans.cluster_centers_[:, 1],\n",
        "            c='red', s=200, marker='X', label='Centroids')\n",
        "plt.title(\"K-Means Clustering on Digits Dataset (PCA Reduced to 2D)\")\n",
        "plt.legend()\n",
        "plt.show()\n"
      ],
      "metadata": {
        "id": "j_aIVptRv7ix"
      },
      "execution_count": null,
      "outputs": []
    },
    {
      "cell_type": "markdown",
      "source": [
        "Q29. Create synthetic data using make_blobs and evaluate silhouette scores for k = 2 to 5. Display as a bar chart.\n"
      ],
      "metadata": {
        "id": "tbcCHIOjv8Js"
      }
    },
    {
      "cell_type": "code",
      "source": [
        "import matplotlib.pyplot as plt\n",
        "from sklearn.datasets import make_blobs\n",
        "from sklearn.cluster import KMeans\n",
        "from sklearn.metrics import silhouette_score\n",
        "\n",
        "# Generate synthetic data\n",
        "X, _ = make_blobs(n_samples=500, centers=4, cluster_std=0.8, random_state=42)\n",
        "\n",
        "# Evaluate silhouette scores for k = 2 to 5\n",
        "scores = []\n",
        "k_values = range(2, 6)\n",
        "\n",
        "for k in k_values:\n",
        "    kmeans = KMeans(n_clusters=k, random_state=42)\n",
        "    labels = kmeans.fit_predict(X)\n",
        "    score = silhouette_score(X, labels)\n",
        "    scores.append(score)\n",
        "\n",
        "# Plot results as bar chart\n",
        "plt.figure(figsize=(8,6))\n",
        "plt.bar(k_values, scores, color='skyblue')\n",
        "plt.xlabel(\"Number of Clusters (k)\")\n",
        "plt.ylabel(\"Silhouette Score\")\n",
        "plt.title(\"Silhouette Scores for K-Means (k=2 to 5)\")\n",
        "plt.show()\n"
      ],
      "metadata": {
        "id": "SLAhZHAJwAqp"
      },
      "execution_count": null,
      "outputs": []
    },
    {
      "cell_type": "markdown",
      "source": [
        "Q30.Load the Iris dataset and use hierarchical clustering to group data. Plot a dendrogram with average linkage."
      ],
      "metadata": {
        "id": "U6w9nmAcwC48"
      }
    },
    {
      "cell_type": "code",
      "source": [
        "import matplotlib.pyplot as plt\n",
        "from sklearn.datasets import load_iris\n",
        "from scipy.cluster.hierarchy import dendrogram, linkage\n",
        "\n",
        "# Load Iris dataset\n",
        "iris = load_iris()\n",
        "X = iris.data\n",
        "\n",
        "# Perform hierarchical clustering with average linkage\n",
        "Z = linkage(X, method='average')\n",
        "\n",
        "# Plot dendrogram\n",
        "plt.figure(figsize=(10, 6))\n",
        "dendrogram(Z, labels=iris.target, leaf_rotation=90, leaf_font_size=10)\n",
        "plt.title(\"Hierarchical Clustering Dendrogram (Average Linkage) - Iris Dataset\")\n",
        "plt.xlabel(\"Sample Index or True Label\")\n",
        "plt.ylabel(\"Distance\")\n",
        "plt.show()\n"
      ],
      "metadata": {
        "id": "NQkr60MzwHwZ"
      },
      "execution_count": null,
      "outputs": []
    },
    {
      "cell_type": "markdown",
      "source": [
        "Q31.Generate synthetic data with overlapping clusters using make_blobs, then apply K-Means and visualize with\n",
        "decision boundaries.\n",
        "\n"
      ],
      "metadata": {
        "id": "IWLD87jCwMT4"
      }
    },
    {
      "cell_type": "code",
      "source": [
        "import matplotlib.pyplot as plt\n",
        "import numpy as np\n",
        "from sklearn.datasets import make_blobs\n",
        "from sklearn.cluster import KMeans\n",
        "\n",
        "# Generate synthetic data with overlapping clusters\n",
        "X, y_true = make_blobs(n_samples=400, centers=3, cluster_std=2.0, random_state=42)\n",
        "\n",
        "# Apply K-Means\n",
        "kmeans = KMeans(n_clusters=3, random_state=42)\n",
        "y_kmeans = kmeans.fit_predict(X)\n",
        "\n",
        "# Create mesh grid for decision boundaries\n",
        "x_min, x_max = X[:, 0].min() - 1, X[:, 0].max() + 1\n",
        "y_min, y_max = X[:, 1].min() - 1, X[:, 1].max() + 1\n",
        "xx, yy = np.meshgrid(np.linspace(x_min, x_max, 500),\n",
        "                     np.linspace(y_min, y_max, 500))\n",
        "\n",
        "Z = kmeans.predict(np.c_[xx.ravel(), yy.ravel()])\n",
        "Z = Z.reshape(xx.shape)\n",
        "\n",
        "# Plot decision boundaries\n",
        "plt.figure(figsize=(8, 6))\n",
        "plt.contourf(xx, yy, Z, alpha=0.3, cmap=\"viridis\")\n",
        "plt.scatter(X[:, 0], X[:, 1], c=y_kmeans, s=50, cmap=\"viridis\", edgecolors=\"k\")\n",
        "plt.scatter(kmeans.cluster_centers_[:, 0], kmeans.cluster_centers_[:, 1],\n",
        "            c=\"red\", s=200, marker=\"X\", label=\"Centroids\")\n",
        "plt.title(\"K-Means Clustering with Decision Boundaries (Overlapping Clusters)\")\n",
        "plt.legend()\n",
        "plt.show()\n"
      ],
      "metadata": {
        "id": "85aI0LnuwTYa"
      },
      "execution_count": null,
      "outputs": []
    },
    {
      "cell_type": "markdown",
      "source": [
        "Q32. Load the Digits dataset and apply DBSCAN after reducing dimensions with t-SNE. Visualize the results.\n",
        "\n"
      ],
      "metadata": {
        "id": "t_6S4jF8wUGm"
      }
    },
    {
      "cell_type": "code",
      "source": [
        "import matplotlib.pyplot as plt\n",
        "from sklearn.datasets import load_digits\n",
        "from sklearn.manifold import TSNE\n",
        "from sklearn.cluster import DBSCAN\n",
        "\n",
        "# Load Digits dataset\n",
        "digits = load_digits()\n",
        "X = digits.data\n",
        "\n",
        "# Reduce dimensions to 2D using t-SNE\n",
        "tsne = TSNE(n_components=2, random_state=42, perplexity=30, n_iter=1000)\n",
        "X_tsne = tsne.fit_transform(X)\n",
        "\n",
        "# Apply DBSCAN\n",
        "dbscan = DBSCAN(eps=5, min_samples=5)\n",
        "labels = dbscan.fit_predict(X_tsne)\n",
        "\n",
        "# Plot results\n",
        "plt.figure(figsize=(10, 7))\n",
        "plt.scatter(X_tsne[:, 0], X_tsne[:, 1], c=labels, cmap=\"tab10\", s=40)\n",
        "plt.title(\"DBSCAN Clustering on Digits Dataset (t-SNE Reduced)\")\n",
        "plt.show()\n"
      ],
      "metadata": {
        "id": "z6gLLOBiwYSH"
      },
      "execution_count": null,
      "outputs": []
    },
    {
      "cell_type": "markdown",
      "source": [
        "Q33.  Generate synthetic data using make_blobs and apply Agglomerative Clustering with complete linkage. Plot\n",
        "the result.\n"
      ],
      "metadata": {
        "id": "iXm35zbWwcny"
      }
    },
    {
      "cell_type": "code",
      "source": [
        "import matplotlib.pyplot as plt\n",
        "from sklearn.datasets import make_blobs\n",
        "from sklearn.cluster import AgglomerativeClustering\n",
        "\n",
        "# Generate synthetic data\n",
        "X, _ = make_blobs(n_samples=300, centers=4, cluster_std=1.0, random_state=42)\n",
        "\n",
        "# Apply Agglomerative Clustering with complete linkage\n",
        "agg_clust = AgglomerativeClustering(n_clusters=4, linkage='complete')\n",
        "labels = agg_clust.fit_predict(X)\n",
        "\n",
        "# Plot results\n",
        "plt.figure(figsize=(8, 6))\n",
        "plt.scatter(X[:, 0], X[:, 1], c=labels, cmap=\"viridis\", s=50)\n",
        "plt.title(\"Agglomerative Clustering (Complete Linkage)\")\n",
        "plt.xlabel(\"Feature 1\")\n",
        "plt.ylabel(\"Feature 2\")\n",
        "plt.show()\n"
      ],
      "metadata": {
        "id": "GH_h0C_gwfZK"
      },
      "execution_count": null,
      "outputs": []
    },
    {
      "cell_type": "markdown",
      "source": [
        "Q34.  Load the Breast Cancer dataset and compare inertia values for K = 2 to 6 using K-Means. Show results in a\n",
        "line plot.\n"
      ],
      "metadata": {
        "id": "kVEwKhhNwjz8"
      }
    },
    {
      "cell_type": "code",
      "source": [
        "import matplotlib.pyplot as plt\n",
        "from sklearn.datasets import load_breast_cancer\n",
        "from sklearn.preprocessing import StandardScaler\n",
        "from sklearn.cluster import KMeans\n",
        "\n",
        "# Load Breast Cancer dataset\n",
        "data = load_breast_cancer()\n",
        "X = data.data\n",
        "\n",
        "# Standardize features\n",
        "scaler = StandardScaler()\n",
        "X_scaled = scaler.fit_transform(X)\n",
        "\n",
        "# Compute inertia values for K = 2 to 6\n",
        "inertias = []\n",
        "K_values = range(2, 7)\n",
        "\n",
        "for k in K_values:\n",
        "    kmeans = KMeans(n_clusters=k, random_state=42)\n",
        "    kmeans.fit(X_scaled)\n",
        "    inertias.append(kmeans.inertia_)\n",
        "\n",
        "# Plot inertia values\n",
        "plt.figure(figsize=(8, 6))\n",
        "plt.plot(K_values, inertias, marker='o', linestyle='-', color='b')\n",
        "plt.title(\"K-Means Inertia Values (Breast Cancer Dataset)\")\n",
        "plt.xlabel(\"Number of Clusters (K)\")\n",
        "plt.ylabel(\"Inertia\")\n",
        "plt.xticks(K_values)\n",
        "plt.grid(True)\n",
        "plt.show()\n"
      ],
      "metadata": {
        "id": "YtcuajFQwoc7"
      },
      "execution_count": null,
      "outputs": []
    },
    {
      "cell_type": "markdown",
      "source": [
        "Q35.  Generate synthetic concentric circles using make_circles and cluster using Agglomerative Clustering with\n",
        "single linkage.\n"
      ],
      "metadata": {
        "id": "1sytRqexwrD3"
      }
    },
    {
      "cell_type": "code",
      "source": [
        "import matplotlib.pyplot as plt\n",
        "from sklearn.datasets import make_circles\n",
        "from sklearn.cluster import AgglomerativeClustering\n",
        "\n",
        "# Generate synthetic concentric circles\n",
        "X, _ = make_circles(n_samples=400, factor=0.5, noise=0.05, random_state=42)\n",
        "\n",
        "# Apply Agglomerative Clustering with single linkage\n",
        "agg_clust = AgglomerativeClustering(n_clusters=2, linkage='single')\n",
        "labels = agg_clust.fit_predict(X)\n",
        "\n",
        "# Plot results\n",
        "plt.figure(figsize=(8, 6))\n",
        "plt.scatter(X[:, 0], X[:, 1], c=labels, cmap=\"viridis\", s=50, edgecolors=\"k\")\n",
        "plt.title(\"Agglomerative Clustering (Single Linkage) on Concentric Circles\")\n",
        "plt.xlabel(\"Feature 1\")\n",
        "plt.ylabel(\"Feature 2\")\n",
        "plt.show()\n"
      ],
      "metadata": {
        "id": "LkG0z7UpwuiZ"
      },
      "execution_count": null,
      "outputs": []
    },
    {
      "cell_type": "markdown",
      "source": [
        "Q36. Use the Wine dataset, apply DBSCAN after scaling the data, and count the number of clusters (excluding\n",
        "noise6.\n"
      ],
      "metadata": {
        "id": "0ZIplpZxwzGR"
      }
    },
    {
      "cell_type": "code",
      "source": [
        "import numpy as np\n",
        "from sklearn.datasets import load_wine\n",
        "from sklearn.preprocessing import StandardScaler\n",
        "from sklearn.cluster import DBSCAN\n",
        "\n",
        "# Load Wine dataset\n",
        "wine = load_wine()\n",
        "X = wine.data\n",
        "\n",
        "# Scale features\n",
        "scaler = StandardScaler()\n",
        "X_scaled = scaler.fit_transform(X)\n",
        "\n",
        "# Apply DBSCAN\n",
        "dbscan = DBSCAN(eps=1.5, min_samples=5)  # you may adjust eps for better clustering\n",
        "labels = dbscan.fit_predict(X_scaled)\n",
        "\n",
        "# Count clusters (excluding noise labeled as -1)\n",
        "n_clusters = len(set(labels)) - (1 if -1 in labels else 0)\n",
        "n_noise = list(labels).count(-1)\n",
        "\n",
        "print(f\"Number of clusters (excluding noise): {n_clusters}\")\n",
        "print(f\"Number of noise points: {n_noise}\")\n"
      ],
      "metadata": {
        "id": "NNknM2AAw3o4"
      },
      "execution_count": null,
      "outputs": []
    },
    {
      "cell_type": "markdown",
      "source": [
        "Q37.Generate synthetic data with make_blobs and apply KMeans. Then plot the cluster centers on top of the\n",
        "data points."
      ],
      "metadata": {
        "id": "cm3tkM4_w826"
      }
    },
    {
      "cell_type": "code",
      "source": [
        "import matplotlib.pyplot as plt\n",
        "from sklearn.datasets import make_blobs\n",
        "from sklearn.cluster import KMeans\n",
        "\n",
        "# Generate synthetic data\n",
        "X, _ = make_blobs(n_samples=300, centers=4, cluster_std=0.8, random_state=42)\n",
        "\n",
        "# Apply KMeans\n",
        "kmeans = KMeans(n_clusters=4, random_state=42)\n",
        "labels = kmeans.fit_predict(X)\n",
        "\n",
        "# Plot data points\n",
        "plt.figure(figsize=(8, 6))\n",
        "plt.scatter(X[:, 0], X[:, 1], c=labels, cmap=\"viridis\", s=50, alpha=0.6, edgecolors=\"k\")\n",
        "\n",
        "# Plot cluster centers\n",
        "plt.scatter(kmeans.cluster_centers_[:, 0], kmeans.cluster_centers_[:, 1],\n",
        "            c=\"red\", marker=\"X\", s=200, label=\"Centroids\")\n",
        "\n",
        "plt.title(\"KMeans Clustering with Cluster Centers\")\n",
        "plt.xlabel(\"Feature 1\")\n",
        "plt.ylabel(\"Feature 2\")\n",
        "plt.legend()\n",
        "plt.show()\n"
      ],
      "metadata": {
        "id": "U3fDCNBbxAoy"
      },
      "execution_count": null,
      "outputs": []
    },
    {
      "cell_type": "markdown",
      "source": [
        "Q38.Load the Iris dataset, cluster with DBSCAN, and print how many samples were identified as noise."
      ],
      "metadata": {
        "id": "BiVySCaaxCtC"
      }
    },
    {
      "cell_type": "code",
      "source": [
        "from sklearn.datasets import load_iris\n",
        "from sklearn.preprocessing import StandardScaler\n",
        "from sklearn.cluster import DBSCAN\n",
        "\n",
        "# Load Iris dataset\n",
        "iris = load_iris()\n",
        "X = iris.data\n",
        "\n",
        "# Scale features\n",
        "scaler = StandardScaler()\n",
        "X_scaled = scaler.fit_transform(X)\n",
        "\n",
        "# Apply DBSCAN\n",
        "dbscan = DBSCAN(eps=0.6, min_samples=5)  # eps can be tuned for better results\n",
        "labels = dbscan.fit_predict(X_scaled)\n",
        "\n",
        "# Count noise samples\n",
        "n_noise = list(labels).count(-1)\n",
        "\n",
        "print(f\"Number of noise samples: {n_noise}\")\n"
      ],
      "metadata": {
        "id": "Q4vOVeS1xII6"
      },
      "execution_count": null,
      "outputs": []
    },
    {
      "cell_type": "markdown",
      "source": [
        "Q39. Generate synthetic non-linearly separable data using make_moons, apply K-Means, and visualize the\n",
        "clustering result.\n"
      ],
      "metadata": {
        "id": "RVxOFf2txKsw"
      }
    },
    {
      "cell_type": "code",
      "source": [
        "import matplotlib.pyplot as plt\n",
        "from sklearn.datasets import make_moons\n",
        "from sklearn.cluster import KMeans\n",
        "\n",
        "# Generate synthetic moon-shaped data\n",
        "X, y_true = make_moons(n_samples=300, noise=0.1, random_state=42)\n",
        "\n",
        "# Apply K-Means with 2 clusters\n",
        "kmeans = KMeans(n_clusters=2, random_state=42)\n",
        "labels = kmeans.fit_predict(X)\n",
        "\n",
        "# Plot clustering results\n",
        "plt.figure(figsize=(8, 6))\n",
        "plt.scatter(X[:, 0], X[:, 1], c=labels, cmap=\"viridis\", s=50, edgecolors=\"k\")\n",
        "plt.scatter(kmeans.cluster_centers_[:, 0], kmeans.cluster_centers_[:, 1],\n",
        "            c=\"red\", marker=\"X\", s=200, label=\"Centroids\")\n",
        "\n",
        "plt.title(\"K-Means Clustering on Non-Linearly Separable Data (make_moons)\")\n",
        "plt.xlabel(\"Feature 1\")\n",
        "plt.ylabel(\"Feature 2\")\n",
        "plt.legend()\n",
        "plt.show()\n"
      ],
      "metadata": {
        "id": "OLrS1udExOW0"
      },
      "execution_count": null,
      "outputs": []
    },
    {
      "cell_type": "markdown",
      "source": [
        "Q40.Load the Digits dataset, apply PCA to reduce to 3 components, then use KMeans and visualize with a 3D\n",
        "scatter plot."
      ],
      "metadata": {
        "id": "T651LGr5xSDN"
      }
    },
    {
      "cell_type": "code",
      "source": [
        "import matplotlib.pyplot as plt\n",
        "from mpl_toolkits.mplot3d import Axes3D\n",
        "from sklearn.datasets import load_digits\n",
        "from sklearn.decomposition import PCA\n",
        "from sklearn.cluster import KMeans\n",
        "\n",
        "# Load Digits dataset\n",
        "digits = load_digits()\n",
        "X = digits.data\n",
        "\n",
        "# Reduce to 3 components using PCA\n",
        "pca = PCA(n_components=3, random_state=42)\n",
        "X_pca = pca.fit_transform(X)\n",
        "\n",
        "# Apply KMeans with 10 clusters (digits 0–9)\n",
        "kmeans = KMeans(n_clusters=10, random_state=42)\n",
        "labels = kmeans.fit_predict(X_pca)\n",
        "\n",
        "# Plot 3D scatter\n",
        "fig = plt.figure(figsize=(10, 7))\n",
        "ax = fig.add_subplot(111, projection='3d')\n",
        "scatter = ax.scatter(X_pca[:, 0], X_pca[:, 1], X_pca[:, 2],\n",
        "                     c=labels, cmap=\"tab10\", s=30, alpha=0.7)\n",
        "\n",
        "ax.set_title(\"KMeans Clustering on Digits (3D PCA Projection)\")\n",
        "ax.set_xlabel(\"PCA 1\")\n",
        "ax.set_ylabel(\"PCA 2\")\n",
        "ax.set_zlabel(\"PCA 3\")\n",
        "\n",
        "plt.colorbar(scatter, ax=ax, label=\"Cluster Label\")\n",
        "plt.show()\n"
      ],
      "metadata": {
        "id": "V6LVOH8CxWzI"
      },
      "execution_count": null,
      "outputs": []
    },
    {
      "cell_type": "markdown",
      "source": [
        "Q41.Generate synthetic blobs with 5 centers and apply KMeans. Then use silhouette_score to evaluate the\n",
        "clustering.\n"
      ],
      "metadata": {
        "id": "rhwnAJsjxZo1"
      }
    },
    {
      "cell_type": "code",
      "source": [
        "from sklearn.datasets import make_blobs\n",
        "from sklearn.cluster import KMeans\n",
        "from sklearn.metrics import silhouette_score\n",
        "\n",
        "# Generate synthetic data with 5 centers\n",
        "X, _ = make_blobs(n_samples=500, centers=5, cluster_std=1.0, random_state=42)\n",
        "\n",
        "# Apply KMeans\n",
        "kmeans = KMeans(n_clusters=5, random_state=42)\n",
        "labels = kmeans.fit_predict(X)\n",
        "\n",
        "# Compute Silhouette Score\n",
        "score = silhouette_score(X, labels)\n",
        "\n",
        "print(f\"Silhouette Score for KMeans with 5 clusters: {score:.4f}\")\n"
      ],
      "metadata": {
        "id": "YTxtDE6exeo7"
      },
      "execution_count": null,
      "outputs": []
    },
    {
      "cell_type": "markdown",
      "source": [
        "Q42. Load the Breast Cancer dataset, reduce dimensionality using PCA, and apply Agglomerative Clustering.\n",
        "Visualize in 2D.\n",
        "\n"
      ],
      "metadata": {
        "id": "crrB5zoJxgaf"
      }
    },
    {
      "cell_type": "code",
      "source": [
        "import matplotlib.pyplot as plt\n",
        "from sklearn.datasets import load_breast_cancer\n",
        "from sklearn.decomposition import PCA\n",
        "from sklearn.preprocessing import StandardScaler\n",
        "from sklearn.cluster import AgglomerativeClustering\n",
        "\n",
        "# Load Breast Cancer dataset\n",
        "data = load_breast_cancer()\n",
        "X = data.data\n",
        "\n",
        "# Standardize features\n",
        "scaler = StandardScaler()\n",
        "X_scaled = scaler.fit_transform(X)\n",
        "\n",
        "# Reduce dimensionality using PCA (2D for visualization)\n",
        "pca = PCA(n_components=2, random_state=42)\n",
        "X_pca = pca.fit_transform(X_scaled)\n",
        "\n",
        "# Apply Agglomerative Clustering\n",
        "agg_clust = AgglomerativeClustering(n_clusters=2, linkage=\"ward\")\n",
        "labels = agg_clust.fit_predict(X_pca)\n",
        "\n",
        "# Plot clusters\n",
        "plt.figure(figsize=(8, 6))\n",
        "plt.scatter(X_pca[:, 0], X_pca[:, 1], c=labels, cmap=\"viridis\", s=50, alpha=0.7, edgecolors=\"k\")\n",
        "plt.title(\"Agglomerative Clustering on Breast Cancer Dataset (PCA Reduced)\")\n",
        "plt.xlabel(\"PCA Component 1\")\n",
        "plt.ylabel(\"PCA Component 2\")\n",
        "plt.show()\n"
      ],
      "metadata": {
        "id": "f8xp3BQHxnJr"
      },
      "execution_count": null,
      "outputs": []
    },
    {
      "cell_type": "markdown",
      "source": [
        "Q43. Generate noisy circular data using make_circles and visualize clustering results from KMeans and DBSCAN\n",
        "side-by-side\n"
      ],
      "metadata": {
        "id": "QjN_pp7bxpX2"
      }
    },
    {
      "cell_type": "code",
      "source": [
        "import matplotlib.pyplot as plt\n",
        "from sklearn.datasets import make_circles\n",
        "from sklearn.cluster import KMeans, DBSCAN\n",
        "\n",
        "# Generate noisy circular data\n",
        "X, _ = make_circles(n_samples=500, factor=0.5, noise=0.05, random_state=42)\n",
        "\n",
        "# Apply KMeans\n",
        "kmeans = KMeans(n_clusters=2, random_state=42)\n",
        "labels_kmeans = kmeans.fit_predict(X)\n",
        "\n",
        "# Apply DBSCAN\n",
        "dbscan = DBSCAN(eps=0.2, min_samples=5)\n",
        "labels_dbscan = dbscan.fit_predict(X)\n",
        "\n",
        "# Plot results side-by-side\n",
        "fig, axes = plt.subplots(1, 2, figsize=(12, 5))\n",
        "\n",
        "# KMeans plot\n",
        "axes[0].scatter(X[:, 0], X[:, 1], c=labels_kmeans, cmap=\"viridis\", s=50, edgecolors=\"k\")\n",
        "axes[0].scatter(kmeans.cluster_centers_[:, 0], kmeans.cluster_centers_[:, 1],\n",
        "                c=\"red\", marker=\"X\", s=200, label=\"Centroids\")\n",
        "axes[0].set_title(\"KMeans Clustering\")\n",
        "axes[0].legend()\n",
        "\n",
        "# DBSCAN plot\n",
        "axes[1].scatter(X[:, 0], X[:, 1], c=labels_dbscan, cmap=\"viridis\", s=50, edgecolors=\"k\")\n",
        "axes[1].set_title(\"DBSCAN Clustering\")\n",
        "\n",
        "plt.suptitle(\"Comparison: KMeans vs DBSCAN on Noisy Circular Data\")\n",
        "plt.show()\n"
      ],
      "metadata": {
        "id": "xQZ5sTgFxtzu"
      },
      "execution_count": null,
      "outputs": []
    },
    {
      "cell_type": "markdown",
      "source": [
        "Q44. Load the Iris dataset and plot the Silhouette Coefficient for each sample after KMeans clustering."
      ],
      "metadata": {
        "id": "CKes5A9-xyUJ"
      }
    },
    {
      "cell_type": "code",
      "source": [
        "# Step 1: Import libraries\n",
        "import matplotlib.pyplot as plt\n",
        "import numpy as np\n",
        "from sklearn.datasets import load_iris\n",
        "from sklearn.cluster import KMeans\n",
        "from sklearn.metrics import silhouette_samples, silhouette_score\n",
        "import matplotlib.cm as cm\n",
        "\n",
        "# Step 2: Load the Iris dataset\n",
        "iris = load_iris()\n",
        "X = iris.data\n",
        "\n",
        "# Step 3: Apply KMeans clustering\n",
        "n_clusters = 3  # As Iris has 3 species\n",
        "kmeans = KMeans(n_clusters=n_clusters, random_state=42)\n",
        "cluster_labels = kmeans.fit_predict(X)\n",
        "\n",
        "# Step 4: Compute the Silhouette Coefficient for each sample\n",
        "silhouette_vals = silhouette_samples(X, cluster_labels)\n",
        "avg_silhouette = silhouette_score(X, cluster_labels)\n",
        "print(f\"Average Silhouette Score: {avg_silhouette:.3f}\")\n",
        "\n",
        "# Step 5: Plot Silhouette Coefficients\n",
        "y_lower = 10\n",
        "fig, ax = plt.subplots(figsize=(8, 6))\n",
        "\n",
        "for i in range(n_clusters):\n",
        "    # Select silhouette values for cluster i\n",
        "    ith_cluster_silhouette_values = silhouette_vals[cluster_labels == i]\n",
        "    ith_cluster_silhouette_values.sort()\n",
        "\n",
        "    size_cluster = ith_cluster_silhouette_values.shape[0]\n",
        "    y_upper = y_lower + size_cluster\n",
        "\n",
        "    color = cm.nipy_spectral(float(i) / n_clusters)\n",
        "    ax.fill_betweenx(np.arange(y_lower, y_upper),\n",
        "                     0, ith_cluster_silhouette_values,\n",
        "                     facecolor=color, edgecolor=color, alpha=0.7)\n",
        "\n",
        "    # Label cluster number\n",
        "    ax.text(-0.05, y_lower + 0.5 * size_cluster, str(i))\n",
        "    y_lower = y_upper + 10  # 10 for spacing between clusters\n",
        "\n",
        "ax.set_title(\"Silhouette plot for KMeans clustering on Iris dataset\")\n",
        "ax.set_xlabel(\"Silhouette coefficient values\")\n",
        "ax.set_ylabel(\"Cluster label\")\n",
        "ax.axvline(x=avg_silhouette, color=\"red\", linestyle=\"--\", label=\"Average Silhouette Score\")\n",
        "ax.set_yticks([])  # Clear y-axis ticks\n",
        "ax.legend()\n",
        "plt.show()\n"
      ],
      "metadata": {
        "id": "rLgLL2fox1k5"
      },
      "execution_count": null,
      "outputs": []
    },
    {
      "cell_type": "markdown",
      "source": [
        "Q45.Generate synthetic data using make_blobs and apply Agglomerative Clustering with 'average' linkage.\n",
        "Visualize clusters.\n"
      ],
      "metadata": {
        "id": "zBblYtINyGtP"
      }
    },
    {
      "cell_type": "code",
      "source": [
        "# Step 1: Import libraries\n",
        "import matplotlib.pyplot as plt\n",
        "from sklearn.datasets import make_blobs\n",
        "from sklearn.cluster import AgglomerativeClustering\n",
        "\n",
        "# Step 2: Generate synthetic data\n",
        "X, y_true = make_blobs(n_samples=300, centers=4, cluster_std=1.0, random_state=42)\n",
        "\n",
        "# Step 3: Apply Agglomerative Clustering\n",
        "agglo = AgglomerativeClustering(n_clusters=4, linkage='average')\n",
        "cluster_labels = agglo.fit_predict(X)\n",
        "\n",
        "# Step 4: Visualize the clusters\n",
        "plt.figure(figsize=(8, 6))\n",
        "plt.scatter(X[:, 0], X[:, 1], c=cluster_labels, cmap='viridis', s=50)\n",
        "plt.title(\"Agglomerative Clustering with 'average' linkage\")\n",
        "plt.xlabel(\"Feature 1\")\n",
        "plt.ylabel(\"Feature 2\")\n",
        "plt.show()\n"
      ],
      "metadata": {
        "id": "iDaOiZBDyLFm"
      },
      "execution_count": null,
      "outputs": []
    },
    {
      "cell_type": "markdown",
      "source": [
        "Q46. Load the Wine dataset, apply KMeans, and visualize the cluster assignments in a seaborn pairplot (first 4\n",
        "features)."
      ],
      "metadata": {
        "id": "Sxf6MIiXyNom"
      }
    },
    {
      "cell_type": "code",
      "source": [
        "# Step 1: Import libraries\n",
        "import pandas as pd\n",
        "import seaborn as sns\n",
        "import matplotlib.pyplot as plt\n",
        "from sklearn.datasets import load_wine\n",
        "from sklearn.cluster import KMeans\n",
        "\n",
        "# Step 2: Load the Wine dataset\n",
        "wine = load_wine()\n",
        "X = wine.data\n",
        "feature_names = wine.feature_names[:4]  # First 4 features\n",
        "\n",
        "# Convert to DataFrame for easier plotting\n",
        "df = pd.DataFrame(X[:, :4], columns=feature_names)\n",
        "\n",
        "# Step 3: Apply KMeans clustering\n",
        "n_clusters = 3  # Wine dataset has 3 classes\n",
        "kmeans = KMeans(n_clusters=n_clusters, random_state=42)\n",
        "cluster_labels = kmeans.fit_predict(X)\n",
        "\n",
        "# Add cluster labels to DataFrame\n",
        "df['Cluster'] = cluster_labels.astype(str)  # Convert to string for coloring in seaborn\n",
        "\n",
        "# Step 4: Visualize using Seaborn pairplot\n",
        "sns.pairplot(df, hue='Cluster', palette='Set1', diag_kind='kde')\n",
        "plt.suptitle(\"KMeans Cluster Assignments on Wine Dataset (First 4 Features)\", y=1.02)\n",
        "plt.show()\n"
      ],
      "metadata": {
        "id": "TfcQdM5gyRdk"
      },
      "execution_count": null,
      "outputs": []
    },
    {
      "cell_type": "markdown",
      "source": [
        "Q47.Generate noisy blobs using make_blobs and use DBSCAN to identify both clusters and noise points. Print the\n",
        "count.\n"
      ],
      "metadata": {
        "id": "VJT9IQZQyVpT"
      }
    },
    {
      "cell_type": "code",
      "source": [
        "# Step 1: Import libraries\n",
        "import numpy as np\n",
        "from sklearn.datasets import make_blobs\n",
        "from sklearn.cluster import DBSCAN\n",
        "\n",
        "# Step 2: Generate noisy blobs\n",
        "X, _ = make_blobs(n_samples=300, centers=3, cluster_std=1.0, random_state=42)\n",
        "# Add random noise points\n",
        "noise = np.random.uniform(low=-10, high=10, size=(20, 2))\n",
        "X = np.vstack([X, noise])\n",
        "\n",
        "# Step 3: Apply DBSCAN\n",
        "dbscan = DBSCAN(eps=1.5, min_samples=5)\n",
        "labels = dbscan.fit_predict(X)\n",
        "\n",
        "# Step 4: Identify clusters and noise points\n",
        "n_clusters = len(set(labels)) - (1 if -1 in labels else 0)\n",
        "n_noise = list(labels).count(-1)\n",
        "\n",
        "print(f\"Number of clusters found: {n_clusters}\")\n",
        "print(f\"Number of noise points: {n_noise}\")\n",
        "\n",
        "# Optional: Print count of points in each cluster\n",
        "import collections\n",
        "cluster_counts = collections.Counter(labels)\n",
        "print(\"Points in each cluster (label - count):\")\n",
        "for label, count in cluster_counts.items():\n",
        "    if label == -1:\n",
        "        print(f\"Noise (-1): {count}\")\n",
        "    else:\n",
        "        print(f\"Cluster {label}: {count}\")\n"
      ],
      "metadata": {
        "id": "rFKWMgHaybtQ"
      },
      "execution_count": null,
      "outputs": []
    },
    {
      "cell_type": "markdown",
      "source": [
        "Q48.Load the Digits dataset, reduce dimensions using t-SNE, then apply Agglomerative Clustering and plot the\n",
        "clusters.\n",
        "\n"
      ],
      "metadata": {
        "id": "AMCMsdpCyeVy"
      }
    },
    {
      "cell_type": "code",
      "source": [
        "# Step 1: Import libraries\n",
        "import matplotlib.pyplot as plt\n",
        "from sklearn.datasets import load_digits\n",
        "from sklearn.manifold import TSNE\n",
        "from sklearn.cluster import AgglomerativeClustering\n",
        "import seaborn as sns\n",
        "import pandas as pd\n",
        "\n",
        "# Step 2: Load Digits dataset\n",
        "digits = load_digits()\n",
        "X = digits.data\n",
        "y_true = digits.target  # True labels, optional for reference\n",
        "\n",
        "# Step 3: Reduce dimensions using t-SNE\n",
        "tsne = TSNE(n_components=2, random_state=42, perplexity=30)\n",
        "X_tsne = tsne.fit_transform(X)\n",
        "\n",
        "# Step 4: Apply Agglomerative Clustering\n",
        "agglo = AgglomerativeClustering(n_clusters=10, linkage='ward')\n",
        "cluster_labels = agglo.fit_predict(X_tsne)\n",
        "\n",
        "# Step 5: Prepare DataFrame for plotting\n",
        "df = pd.DataFrame(X_tsne, columns=['TSNE1', 'TSNE2'])\n",
        "df['Cluster'] = cluster_labels.astype(str)  # Convert to string for coloring\n",
        "\n",
        "# Step 6: Visualize clusters\n",
        "plt.figure(figsize=(8, 6))\n",
        "sns.scatterplot(data=df, x='TSNE1', y='TSNE2', hue='Cluster', palette='tab10', s=50)\n",
        "plt.title(\"Agglomerative Clustering on t-SNE Reduced Digits Dataset\")\n",
        "plt.legend(title='Cluster')\n",
        "plt.show()\n"
      ],
      "metadata": {
        "id": "POA4sCbDyh11"
      },
      "execution_count": null,
      "outputs": []
    }
  ]
}